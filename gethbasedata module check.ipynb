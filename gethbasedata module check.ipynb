{
 "cells": [
  {
   "cell_type": "code",
   "execution_count": 21,
   "metadata": {},
   "outputs": [
    {
     "name": "stdout",
     "output_type": "stream",
     "text": [
      "Row 282  has been deleted sucessfully\n",
      "closed\n",
      "delete unsucessfull\n"
     ]
    }
   ],
   "source": [
    "import gethbasedata as hb\n",
    "hb.table_name = 'faq'\n",
    "#print(hb.RowFinder('What is your name?'))\n",
    "# My name is Prakash Poudel.\n",
    "\n",
    "hb.deleterow('282')\n",
    "#print(hb.RowFinder('What should I call you?'))\n",
    "#hb.givedata('What is fine?','Nothing is fine')\n",
    "#hb.givedata('What should I call you?','My name is Prakash Poudel.')\n"
   ]
  },
  {
   "cell_type": "code",
   "execution_count": null,
   "metadata": {},
   "outputs": [],
   "source": []
  },
  {
   "cell_type": "code",
   "execution_count": null,
   "metadata": {},
   "outputs": [],
   "source": []
  },
  {
   "cell_type": "code",
   "execution_count": null,
   "metadata": {},
   "outputs": [],
   "source": []
  }
 ],
 "metadata": {
  "kernelspec": {
   "display_name": "Python 3",
   "language": "python",
   "name": "python3"
  },
  "language_info": {
   "codemirror_mode": {
    "name": "ipython",
    "version": 3
   },
   "file_extension": ".py",
   "mimetype": "text/x-python",
   "name": "python",
   "nbconvert_exporter": "python",
   "pygments_lexer": "ipython3",
   "version": "3.6.4"
  }
 },
 "nbformat": 4,
 "nbformat_minor": 2
}
